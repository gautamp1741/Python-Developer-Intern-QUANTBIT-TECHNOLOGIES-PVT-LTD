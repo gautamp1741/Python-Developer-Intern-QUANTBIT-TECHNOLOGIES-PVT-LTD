{
 "cells": [
  {
   "cell_type": "code",
   "execution_count": 6,
   "id": "d1554162-d295-489d-abcc-d574f4a11502",
   "metadata": {},
   "outputs": [
    {
     "name": "stdout",
     "output_type": "stream",
     "text": [
      "Input: hello\n",
      "Output: olleh\n"
     ]
    }
   ],
   "source": [
    "#Python Task List\n",
    "\n",
    "#Task 1\n",
    "#Reverse a string without using built-in methods.\n",
    "#Input: \"hello\"\n",
    "#Output: \"olleh\"\n",
    "\n",
    "def reverse_string(s):\n",
    "    reversed_str = ''\n",
    "    for char in s:\n",
    "        reversed_str = char + reversed_str\n",
    "    return reversed_str\n",
    "\n",
    "\n",
    "#Test the function\n",
    "input_string = \"hello\"\n",
    "output_string = reverse_string(input_string)\n",
    "print(\"Input:\", input_string)\n",
    "print(\"Output:\", output_string)"
   ]
  }
 ],
 "metadata": {
  "kernelspec": {
   "display_name": "Python 3 (ipykernel)",
   "language": "python",
   "name": "python3"
  },
  "language_info": {
   "codemirror_mode": {
    "name": "ipython",
    "version": 3
   },
   "file_extension": ".py",
   "mimetype": "text/x-python",
   "name": "python",
   "nbconvert_exporter": "python",
   "pygments_lexer": "ipython3",
   "version": "3.12.7"
  }
 },
 "nbformat": 4,
 "nbformat_minor": 5
}
